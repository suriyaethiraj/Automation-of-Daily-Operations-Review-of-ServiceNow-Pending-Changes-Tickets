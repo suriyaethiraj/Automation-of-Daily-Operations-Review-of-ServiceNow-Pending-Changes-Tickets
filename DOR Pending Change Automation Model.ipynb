{
  "metadata": {
    "kernelspec": {
      "name": "python",
      "display_name": "Python (Pyodide)",
      "language": "python"
    },
    "language_info": {
      "codemirror_mode": {
        "name": "python",
        "version": 3
      },
      "file_extension": ".py",
      "mimetype": "text/x-python",
      "name": "python",
      "nbconvert_exporter": "python",
      "pygments_lexer": "ipython3",
      "version": "3.8"
    }
  },
  "nbformat_minor": 4,
  "nbformat": 4,
  "cells": [
    {
      "cell_type": "code",
      "source": "#Importing Pandas from the library\nimport pandas as pd\n\n# Read the Excel file\ndf = pd.read_excel(\"Pending Change.xlsx\", engine='openpyxl')\n\n#Create a new column called \"Date\"\ndf['Date'] = pd.to_datetime(df['Planned end date']).dt.date\n\n# Create a new column \"Age\", and calculate the value in days count (Today - Planned end date)\ndf['Age'] = (pd.Timestamp.now() - pd.to_datetime(df['Date'])).dt.days\n\n# Filter the DataFrame\ndf = df[df['Age'] > 0]\n\n# Create a pivot table using the \"assignment_group\" column\npivot_table = pd.pivot_table(df, values='Number', index='Assignment group', columns='Age', aggfunc='count')\n\n# Fill NaN values with zeros\npivot_table = pivot_table.fillna(0)\n\n# Format the values as integers (no decimals)\npivot_table = pivot_table.astype(int)\n\n# Append the grand total row to the pivot table\npivot_table_styled = pd.concat([pivot_table])\n\n# Add the total column to the pivot table\npivot_table_styled['Total'] = pivot_table_styled.sum(axis=1)\n\n# Add the total row to the pivot table\npivot_table_styled.loc['Total'] = pivot_table_styled.sum()\n\n# Highlight integer values in red\ndef highlight_integers(val):\n    if isinstance(val, int):\n        return 'color: red'\n    else:\n        return ''\n\n# Apply the style to the pivot table\npivot_table_styled = pivot_table_styled.style.applymap(highlight_integers)\n\n# Set the style for the first four columns (0, 1, 2, 3) to black color\npivot_table_styled = pivot_table_styled.set_properties(subset=pivot_table_styled.columns[:3], color=\"black\")\n\n# Set the style for the \"Total\" column to black color\npivot_table_styled = pivot_table_styled.set_properties(subset=['Total'], color=\"black\")\n\n# Assign the styled pivot table to DOR_Pending_Change\nDOR_Pending_Change = pivot_table_styled\n\n# Renaming the Index Name\nDOR_Pending_Change.index.name = \"Infrastructure Teams\"\n\n# Renaming the Column Name\nDOR_Pending_Change.columns.name = \"Pending Changes Age\"\n\n# Display the styled pivot table\nDOR_Pending_Change",
      "metadata": {
        "trusted": true
      },
      "outputs": [],
      "execution_count": null
    }
  ]
}